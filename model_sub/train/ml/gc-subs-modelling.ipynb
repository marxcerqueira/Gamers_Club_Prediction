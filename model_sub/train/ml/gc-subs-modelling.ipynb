{
 "cells": [
  {
   "cell_type": "markdown",
   "id": "french-dollar",
   "metadata": {},
   "source": [
    "# GC Subscription Predict Model\n"
   ]
  },
  {
   "cell_type": "markdown",
   "id": "95fec0f9",
   "metadata": {
    "ExecuteTime": {
     "end_time": "2022-05-13T22:49:25.773552Z",
     "start_time": "2022-05-13T22:49:25.771017Z"
    }
   },
   "source": [
    "**Project Objective:**\n",
    "criação de um book de variáveis (feature store) e posteriormente criar a nossa variável resposta (target), i.e. aquilo que queremos prever.\n",
    "\n",
    "Qual a probabilidade de uma pessoa assinar a GC nos próximos 15 dias?"
   ]
  },
  {
   "cell_type": "markdown",
   "id": "blocked-craft",
   "metadata": {
    "heading_collapsed": true
   },
   "source": [
    "## Project Solution Planning"
   ]
  },
  {
   "cell_type": "markdown",
   "id": "violent-double",
   "metadata": {
    "ExecuteTime": {
     "end_time": "2021-04-07T12:44:04.386844Z",
     "start_time": "2021-04-07T12:44:04.384084Z"
    },
    "heading_collapsed": true,
    "hidden": true
   },
   "source": [
    "### Input"
   ]
  },
  {
   "cell_type": "markdown",
   "id": "mobile-galaxy",
   "metadata": {
    "hidden": true
   },
   "source": [
    "1. Problema de Negócio\n",
    "    - ...\n",
    "    - ...\n",
    "2. Conjunto de dados\n",
    "\n",
    "    "
   ]
  },
  {
   "cell_type": "markdown",
   "id": "floppy-springer",
   "metadata": {
    "heading_collapsed": true,
    "hidden": true
   },
   "source": [
    "### Output\n"
   ]
  },
  {
   "cell_type": "markdown",
   "id": "false-renewal",
   "metadata": {
    "hidden": true
   },
   "source": [
    "1. ...\n",
    "             \n",
    "2. Relatório com as respostas das perguntas de negócio\n",
    "\n",
    "    - ...\n",
    "    - ...\n",
    "    - ...\n",
    "    - ...\n",
    "    - ...\n",
    "    - ...\n",
    "    - ...\n",
    "    - ...\n",
    "    - ..."
   ]
  },
  {
   "cell_type": "markdown",
   "id": "physical-command",
   "metadata": {
    "heading_collapsed": true,
    "hidden": true
   },
   "source": [
    "### Tasks"
   ]
  },
  {
   "cell_type": "markdown",
   "id": "short-spank",
   "metadata": {
    "hidden": true
   },
   "source": [
    "1. \n",
    "2. \n",
    "3. \n",
    "4. "
   ]
  },
  {
   "cell_type": "markdown",
   "id": "homeless-heading",
   "metadata": {},
   "source": [
    "# Imports"
   ]
  },
  {
   "cell_type": "code",
   "execution_count": 1,
   "id": "lovely-guess",
   "metadata": {
    "ExecuteTime": {
     "end_time": "2022-05-14T21:22:22.673394Z",
     "start_time": "2022-05-14T21:22:20.720922Z"
    }
   },
   "outputs": [],
   "source": [
    "import pandas as pd\n",
    "import numpy  as np\n",
    "import sqlalchemy\n",
    "\n",
    "import matplotlib.pyplot as plt\n",
    "\n",
    "from sklearn import metrics, model_selection\n",
    "from sklearn import ensemble\n",
    "from sklearn import tree\n",
    "from sklearn import linear_model\n",
    "from sklearn import pipeline\n",
    "\n",
    "from feature_engine import imputation\n",
    "from feature_engine import encoding\n",
    "from random         import random\n",
    "\n",
    "import scikitplot as skplt\n",
    "\n",
    "from sklearn.metrics import accuracy_score, precision_score, recall_score, f1_score, roc_auc_score,\\\n",
    "confusion_matrix, matthews_corrcoef, make_scorer, roc_curve, precision_recall_curve"
   ]
  },
  {
   "cell_type": "markdown",
   "id": "dressed-ukraine",
   "metadata": {},
   "source": [
    "## Helper Functions"
   ]
  },
  {
   "cell_type": "code",
   "execution_count": 2,
   "id": "cordless-people",
   "metadata": {
    "ExecuteTime": {
     "end_time": "2022-05-14T21:22:26.452286Z",
     "start_time": "2022-05-14T21:22:26.443316Z"
    }
   },
   "outputs": [],
   "source": [
    "def jupyter_settings():\n",
    "    %matplotlib inline\n",
    "    %pylab inline\n",
    "    \n",
    "    plt.style.use( 'bmh' )\n",
    "    plt.rcParams['figure.figsize'] = [25, 12]\n",
    "    plt.rcParams['font.size'] = 24\n",
    "    \n",
    "    display( HTML( '<style>.container { width:100% !important; }</style>') )\n",
    "    pd.options.display.max_columns = None\n",
    "    pd.options.display.max_rows = None\n",
    "    pd.set_option( 'display.expand_frame_repr', False )\n",
    "    \n",
    "    sns.set()\n",
    "    \n",
    "# Model's performance function on training dataset\n",
    "def performance(model, x_train, y_train):\n",
    "    # define scoring metrics\n",
    "    scoring = {'accuracy': 'accuracy',\n",
    "               'precision': make_scorer(precision_score),\n",
    "               'recall': make_scorer(recall_score),\n",
    "               'f1_score': make_scorer(f1_score),\n",
    "               'roc_auc_score': make_scorer(roc_auc_score),\n",
    "               'mcc': make_scorer(matthews_corrcoef)}\n",
    "\n",
    "    # calculate scores with cross_validate\n",
    "    scores = cross_validate(model, x_train, y_train, cv=10, scoring=scoring)\n",
    "    \n",
    "    # performance data frame\n",
    "    performance = pd.DataFrame.from_dict(scores).drop(['fit_time', 'score_time'], axis=1)\n",
    "    performance = pd.DataFrame(performance.mean()).T\n",
    "    return performance"
   ]
  },
  {
   "cell_type": "code",
   "execution_count": 3,
   "id": "casual-ecology",
   "metadata": {
    "ExecuteTime": {
     "end_time": "2022-05-14T21:22:27.892039Z",
     "start_time": "2022-05-14T21:22:27.507924Z"
    },
    "scrolled": true
   },
   "outputs": [
    {
     "name": "stdout",
     "output_type": "stream",
     "text": [
      "%pylab is deprecated, use %matplotlib inline and import the required libraries.\n",
      "Populating the interactive namespace from numpy and matplotlib\n"
     ]
    },
    {
     "name": "stderr",
     "output_type": "stream",
     "text": [
      "/home/marxcerqueira/.pyenv/versions/3.9.2/envs/gc-prediction/lib/python3.9/site-packages/IPython/core/magics/pylab.py:162: UserWarning: pylab import has clobbered these variables: ['random']\n",
      "`%matplotlib` prevents importing * from pylab and numpy\n",
      "  warn(\"pylab import has clobbered these variables: %s\"  % clobbered +\n"
     ]
    },
    {
     "ename": "NameError",
     "evalue": "name 'HTML' is not defined",
     "output_type": "error",
     "traceback": [
      "\u001b[0;31m---------------------------------------------------------------------------\u001b[0m",
      "\u001b[0;31mNameError\u001b[0m                                 Traceback (most recent call last)",
      "Input \u001b[0;32mIn [3]\u001b[0m, in \u001b[0;36m<cell line: 1>\u001b[0;34m()\u001b[0m\n\u001b[0;32m----> 1\u001b[0m \u001b[43mjupyter_settings\u001b[49m\u001b[43m(\u001b[49m\u001b[43m)\u001b[49m\n\u001b[1;32m      2\u001b[0m pd\u001b[38;5;241m.\u001b[39mset_option(\u001b[38;5;124m'\u001b[39m\u001b[38;5;124mdisplay.max_columns\u001b[39m\u001b[38;5;124m'\u001b[39m, \u001b[38;5;28;01mNone\u001b[39;00m)\n",
      "Input \u001b[0;32mIn [2]\u001b[0m, in \u001b[0;36mjupyter_settings\u001b[0;34m()\u001b[0m\n\u001b[1;32m      6\u001b[0m plt\u001b[38;5;241m.\u001b[39mrcParams[\u001b[38;5;124m'\u001b[39m\u001b[38;5;124mfigure.figsize\u001b[39m\u001b[38;5;124m'\u001b[39m] \u001b[38;5;241m=\u001b[39m [\u001b[38;5;241m25\u001b[39m, \u001b[38;5;241m12\u001b[39m]\n\u001b[1;32m      7\u001b[0m plt\u001b[38;5;241m.\u001b[39mrcParams[\u001b[38;5;124m'\u001b[39m\u001b[38;5;124mfont.size\u001b[39m\u001b[38;5;124m'\u001b[39m] \u001b[38;5;241m=\u001b[39m \u001b[38;5;241m24\u001b[39m\n\u001b[0;32m----> 9\u001b[0m display( \u001b[43mHTML\u001b[49m( \u001b[38;5;124m'\u001b[39m\u001b[38;5;124m<style>.container \u001b[39m\u001b[38;5;124m{\u001b[39m\u001b[38;5;124m width:100\u001b[39m\u001b[38;5;124m%\u001b[39m\u001b[38;5;124m !important; }</style>\u001b[39m\u001b[38;5;124m'\u001b[39m) )\n\u001b[1;32m     10\u001b[0m pd\u001b[38;5;241m.\u001b[39moptions\u001b[38;5;241m.\u001b[39mdisplay\u001b[38;5;241m.\u001b[39mmax_columns \u001b[38;5;241m=\u001b[39m \u001b[38;5;28;01mNone\u001b[39;00m\n\u001b[1;32m     11\u001b[0m pd\u001b[38;5;241m.\u001b[39moptions\u001b[38;5;241m.\u001b[39mdisplay\u001b[38;5;241m.\u001b[39mmax_rows \u001b[38;5;241m=\u001b[39m \u001b[38;5;28;01mNone\u001b[39;00m\n",
      "\u001b[0;31mNameError\u001b[0m: name 'HTML' is not defined"
     ]
    }
   ],
   "source": [
    "jupyter_settings()\n",
    "pd.set_option('display.max_columns', None)"
   ]
  },
  {
   "cell_type": "code",
   "execution_count": null,
   "id": "84fe13ef",
   "metadata": {},
   "outputs": [],
   "source": []
  },
  {
   "cell_type": "markdown",
   "id": "d5cf74cf",
   "metadata": {},
   "source": [
    "# Loading and Splitting Data"
   ]
  },
  {
   "cell_type": "code",
   "execution_count": 4,
   "id": "d12a6359",
   "metadata": {
    "ExecuteTime": {
     "end_time": "2022-05-14T21:22:49.322249Z",
     "start_time": "2022-05-14T21:22:44.467779Z"
    }
   },
   "outputs": [],
   "source": [
    "# conect with GC.db and get ABT\n",
    "conn = sqlalchemy.create_engine(\"sqlite:///../../../data/gc.db\")\n",
    "df = pd.read_sql_table('tb_abt_sub', conn)"
   ]
  },
  {
   "cell_type": "code",
   "execution_count": 30,
   "id": "123bdfdb",
   "metadata": {
    "ExecuteTime": {
     "end_time": "2022-05-14T21:59:35.932268Z",
     "start_time": "2022-05-14T21:59:35.818420Z"
    },
    "scrolled": true
   },
   "outputs": [
    {
     "name": "stdout",
     "output_type": "stream",
     "text": [
      "Class size for train dataset: [77097  5654]\n",
      "Class size for valid dataset: [8591  604]\n",
      "Class size for test dataset: [9504  713]\n",
      "Class size for OOT dataset: [2427   91]\n",
      "% of data in train/valid/test: 80.99899180721005/9.000323013223966/10.000685179565988\n"
     ]
    }
   ],
   "source": [
    "# Spliting database Train-Validation-Test(81,9,10) and Out of Time\n",
    "\n",
    "df_oot = df[df['dtReff'].isin(['2022-01-15', '2022-01-16'])].copy()\n",
    "df_train = df[~df['dtReff'].isin(['2022-01-15', '2022-01-16'])].copy()\n",
    "\n",
    "#features and target list\n",
    "features = df_train.columns.tolist()[2:-1]\n",
    "target = 'flagSub'\n",
    "\n",
    "\n",
    "#define df_train, df_test (80/20)\n",
    "X_train, X_test, y_train, y_test = model_selection.train_test_split(df_train[features],\n",
    "                                                                    df_train[target],\n",
    "                                                                    random_state=42,\n",
    "                                                                    test_size=0.1)\n",
    "\n",
    "# train valid split\n",
    "X_train, X_valid, y_train, y_valid = model_selection.train_test_split(X_train, y_train, test_size=0.10, random_state=42)\n",
    "\n",
    "# x y out of time base\n",
    "X_oot = df_oot[features].copy()\n",
    "y_oot = df_oot[target].copy()\n",
    "\n",
    "\n",
    "# check balance of classes (0, 1) among y_train and y_test.\n",
    "print(f\"Class size for train dataset: {np.bincount(y_train)}\")\n",
    "print(f\"Class size for valid dataset: {np.bincount(y_valid)}\")\n",
    "print(f\"Class size for test dataset: {np.bincount(y_test)}\")\n",
    "print(f\"Class size for OOT dataset: {np.bincount(y_oot)}\")\n",
    "print(f'% of data in train/valid/test: {(X_train.shape[0]/df_train.shape[0])*100}/{(X_valid.shape[0]/df_train.shape[0])*100}/{(X_test.shape[0]/df_train.shape[0])*100}')\n",
    "\n"
   ]
  },
  {
   "cell_type": "code",
   "execution_count": 58,
   "id": "a89bb69c",
   "metadata": {
    "ExecuteTime": {
     "end_time": "2022-05-14T22:17:54.194172Z",
     "start_time": "2022-05-14T22:17:54.184852Z"
    }
   },
   "outputs": [
    {
     "name": "stdout",
     "output_type": "stream",
     "text": [
      "0    93.167454\n",
      "1     6.832546\n",
      "Name: flagSub, dtype: float64\n",
      "0    93.431213\n",
      "1     6.568787\n",
      "Name: flagSub, dtype: float64\n",
      "0    93.021435\n",
      "1     6.978565\n",
      "Name: flagSub, dtype: float64\n",
      "0    96.386021\n",
      "1     3.613979\n",
      "Name: flagSub, dtype: float64\n"
     ]
    }
   ],
   "source": [
    "# 0 and 1 proportions\n",
    "print(y_train.value_counts(normalize = True)*100)\n",
    "print(y_valid.value_counts(normalize = True)*100)\n",
    "print(y_test.value_counts(normalize = True)*100)\n",
    "print(y_oot.value_counts(normalize = True)*100)"
   ]
  },
  {
   "cell_type": "markdown",
   "id": "respiratory-seattle",
   "metadata": {},
   "source": [
    "# DATA DISCRIPTION"
   ]
  },
  {
   "cell_type": "markdown",
   "id": "growing-arrival",
   "metadata": {},
   "source": [
    "## Data Dimension"
   ]
  },
  {
   "cell_type": "code",
   "execution_count": 39,
   "id": "associate-corruption",
   "metadata": {
    "ExecuteTime": {
     "end_time": "2022-05-14T22:06:00.368239Z",
     "start_time": "2022-05-14T22:06:00.365410Z"
    }
   },
   "outputs": [
    {
     "name": "stdout",
     "output_type": "stream",
     "text": [
      "\n",
      "Train base:\n",
      "Number of rows:82751 \n",
      "Number of columns:75 \n",
      "\n",
      "Validation base:\n",
      "Number of rows:9195 \n",
      "Number of columns:75 \n",
      "\n",
      "Test base:\n",
      "Number of rows:10217 \n",
      "Number of columns:75 \n"
     ]
    }
   ],
   "source": [
    "print(f'\\nTrain base:\\nNumber of rows:{X_train.shape[0]} ')\n",
    "print(f'Number of columns:{X_train.shape[1]} ')\n",
    "\n",
    "print(f'\\nValidation base:\\nNumber of rows:{X_valid.shape[0]} ')\n",
    "print(f'Number of columns:{X_valid.shape[1]} ')\n",
    "\n",
    "print(f'\\nTest base:\\nNumber of rows:{X_test.shape[0]} ')\n",
    "print(f'Number of columns:{X_test.shape[1]} ')"
   ]
  },
  {
   "cell_type": "markdown",
   "id": "covered-offset",
   "metadata": {
    "heading_collapsed": true
   },
   "source": [
    "## Data Types"
   ]
  },
  {
   "cell_type": "code",
   "execution_count": 41,
   "id": "36aade34",
   "metadata": {
    "ExecuteTime": {
     "end_time": "2022-05-14T22:06:36.176708Z",
     "start_time": "2022-05-14T22:06:36.126072Z"
    },
    "hidden": true
   },
   "outputs": [
    {
     "name": "stdout",
     "output_type": "stream",
     "text": [
      "<class 'pandas.core.frame.DataFrame'>\n",
      "RangeIndex: 104681 entries, 0 to 104680\n",
      "Data columns (total 78 columns):\n",
      " #   Column                 Non-Null Count   Dtype  \n",
      "---  ------                 --------------   -----  \n",
      " 0   dtReff                 104681 non-null  object \n",
      " 1   idPlayer               104681 non-null  int64  \n",
      " 2   qtPartidas             104681 non-null  int64  \n",
      " 3   qtPartidasMenor16      104681 non-null  int64  \n",
      " 4   qtDias                 104681 non-null  int64  \n",
      " 5   qtDiasUltimaLobby      104681 non-null  float64\n",
      " 6   mediaPartidaDias       104681 non-null  float64\n",
      " 7   avgQtKill              104681 non-null  float64\n",
      " 8   avgQtAssist            104681 non-null  float64\n",
      " 9   avgQtDeath             104681 non-null  float64\n",
      " 10  avgKDA                 104681 non-null  float64\n",
      " 11  KDAgeral               104681 non-null  float64\n",
      " 12  avgKARound             104681 non-null  float64\n",
      " 13  KARoundgeral           104681 non-null  float64\n",
      " 14  avgQtHs                104681 non-null  float64\n",
      " 15  txHsGeral              104681 non-null  float64\n",
      " 16  avgHsRate              104681 non-null  float64\n",
      " 17  avgQtBombeDefuse       104681 non-null  float64\n",
      " 18  avgQtBombePlant        104681 non-null  float64\n",
      " 19  avgQtTk                104681 non-null  float64\n",
      " 20  avgQtTkAssist          104681 non-null  float64\n",
      " 21  avgQt1Kill             104681 non-null  float64\n",
      " 22  avgQt2Kill             104681 non-null  float64\n",
      " 23  avgQt3Kill             104681 non-null  float64\n",
      " 24  avgQt4Kill             104681 non-null  float64\n",
      " 25  sumQt4Kill             104681 non-null  int64  \n",
      " 26  avgQt5Kill             104681 non-null  float64\n",
      " 27  sumQt5Kill             104681 non-null  int64  \n",
      " 28  avgQtPlusKill          104681 non-null  float64\n",
      " 29  avgQtFirstKill         104681 non-null  float64\n",
      " 30  avgVlDamage            104681 non-null  float64\n",
      " 31  avgDamageRound         104681 non-null  float64\n",
      " 32  DamageRoundGeral       104681 non-null  float64\n",
      " 33  avgQtHits              104681 non-null  float64\n",
      " 34  avgQtShots             104681 non-null  float64\n",
      " 35  avgQtLastAlive         104681 non-null  float64\n",
      " 36  avgQtClutchWon         104681 non-null  float64\n",
      " 37  avgQtRoundsPlayed      104681 non-null  float64\n",
      " 38  avgVlLevel             104681 non-null  float64\n",
      " 39  avgQtSurvived          104681 non-null  float64\n",
      " 40  avgQtTrade             104681 non-null  float64\n",
      " 41  avgQtFlashAssist       104681 non-null  float64\n",
      " 42  avgQtHitHeadshot       104681 non-null  float64\n",
      " 43  avgQtHitChest          104681 non-null  float64\n",
      " 44  avgQtHitStomach        104681 non-null  float64\n",
      " 45  avgQtHitLeftArm        104681 non-null  float64\n",
      " 46  avgQtHitRightArm       104681 non-null  float64\n",
      " 47  avgQtHitLeftLeg        104681 non-null  float64\n",
      " 48  avgQtHitRightLeg       104681 non-null  float64\n",
      " 49  avgFlWinner            104681 non-null  float64\n",
      " 50  WinRateMirage          87256 non-null   float64\n",
      " 51  RateqtMiragePartida    104681 non-null  int64  \n",
      " 52  WinRateNuke            51557 non-null   float64\n",
      " 53  RateqtNukePartida      104681 non-null  int64  \n",
      " 54  WinRateInferno         82593 non-null   float64\n",
      " 55  RateqtInfernoPartida   104681 non-null  int64  \n",
      " 56  WinRateVertigo         58853 non-null   float64\n",
      " 57  RateqtVertigoPartida   104681 non-null  int64  \n",
      " 58  WinRateAncient         26002 non-null   float64\n",
      " 59  RateqtAncientPartida   104681 non-null  int64  \n",
      " 60  WinRateDust2           67759 non-null   float64\n",
      " 61  RateqtDust2Partida     104681 non-null  int64  \n",
      " 62  WinRateTrain           41139 non-null   float64\n",
      " 63  RateqtTrainPartida     104681 non-null  int64  \n",
      " 64  WinRateOverpass        56962 non-null   float64\n",
      " 65  RateqtOverpassPartida  104681 non-null  int64  \n",
      " 66  vlLevelAtual           104681 non-null  int64  \n",
      " 67  qtMedalDistict         104681 non-null  int64  \n",
      " 68  qtMedalhaAdquiridas    104681 non-null  int64  \n",
      " 69  qtPremium              104681 non-null  int64  \n",
      " 70  qtPlus                 104681 non-null  int64  \n",
      " 71  flFacebook             104681 non-null  int64  \n",
      " 72  flTwitter              104681 non-null  int64  \n",
      " 73  flTwitch               104681 non-null  int64  \n",
      " 74  descCountry            104681 non-null  object \n",
      " 75  vlIdadePlayer          83056 non-null   float64\n",
      " 76  vlDiasCadastro         104681 non-null  float64\n",
      " 77  flagSub                104681 non-null  int64  \n",
      "dtypes: float64(53), int64(23), object(2)\n",
      "memory usage: 62.3+ MB\n"
     ]
    }
   ],
   "source": [
    "df.info()"
   ]
  },
  {
   "cell_type": "markdown",
   "id": "naval-annual",
   "metadata": {},
   "source": [
    "## Check NA Values"
   ]
  },
  {
   "cell_type": "code",
   "execution_count": 42,
   "id": "important-appendix",
   "metadata": {
    "ExecuteTime": {
     "end_time": "2022-05-14T22:06:53.069791Z",
     "start_time": "2022-05-14T22:06:53.034654Z"
    },
    "scrolled": true
   },
   "outputs": [
    {
     "data": {
      "text/plain": [
       "dtReff                   0\n",
       "idPlayer                 0\n",
       "qtPartidas               0\n",
       "qtPartidasMenor16        0\n",
       "qtDias                   0\n",
       "                     ...  \n",
       "flTwitch                 0\n",
       "descCountry              0\n",
       "vlIdadePlayer        21625\n",
       "vlDiasCadastro           0\n",
       "flagSub                  0\n",
       "Length: 78, dtype: int64"
      ]
     },
     "execution_count": 42,
     "metadata": {},
     "output_type": "execute_result"
    }
   ],
   "source": [
    "df.isna().sum()"
   ]
  },
  {
   "cell_type": "code",
   "execution_count": 44,
   "id": "5272e904",
   "metadata": {
    "ExecuteTime": {
     "end_time": "2022-05-14T22:09:22.245566Z",
     "start_time": "2022-05-14T22:09:22.240373Z"
    }
   },
   "outputs": [],
   "source": [
    "# separate numerical and categorical features into lists\n",
    "cat_features = X_train.dtypes[X_train.dtypes=='object'].index.tolist()\n",
    "num_features = list(set(X_train.columns) - set(cat_features))"
   ]
  },
  {
   "cell_type": "code",
   "execution_count": 46,
   "id": "caef7a1a",
   "metadata": {
    "ExecuteTime": {
     "end_time": "2022-05-14T22:09:35.321069Z",
     "start_time": "2022-05-14T22:09:35.301120Z"
    }
   },
   "outputs": [
    {
     "name": "stdout",
     "output_type": "stream",
     "text": [
      "Estatística de missings\n",
      "Missing numerico:\n",
      "WinRateNuke        41942\n",
      "WinRateMirage      13717\n",
      "WinRateDust2       29072\n",
      "WinRateAncient     62094\n",
      "WinRateTrain       50145\n",
      "vlIdadePlayer      16993\n",
      "WinRateVertigo     36173\n",
      "WinRateOverpass    37692\n",
      "WinRateInferno     17432\n",
      "dtype: int64\n"
     ]
    }
   ],
   "source": [
    "print(\"Estatística de missings\")\n",
    "print(\"Missing numerico:\")\n",
    "is_na = X_train[num_features].isna().sum()\n",
    "print(is_na[is_na>0])\n"
   ]
  },
  {
   "cell_type": "code",
   "execution_count": 47,
   "id": "5f8e38fd",
   "metadata": {
    "ExecuteTime": {
     "end_time": "2022-05-14T22:09:53.347559Z",
     "start_time": "2022-05-14T22:09:53.327818Z"
    }
   },
   "outputs": [
    {
     "name": "stdout",
     "output_type": "stream",
     "text": [
      "Estatística de missings\n",
      "Missing cat:\n",
      "Series([], dtype: int64)\n"
     ]
    }
   ],
   "source": [
    "print(\"Estatística de missings\")\n",
    "print(\"Missing cat:\")\n",
    "is_na = X_train[cat_features].isna().sum()\n",
    "print(is_na[is_na>0])"
   ]
  },
  {
   "cell_type": "markdown",
   "id": "unique-charlotte",
   "metadata": {},
   "source": [
    "## Fillout NA"
   ]
  },
  {
   "cell_type": "code",
   "execution_count": 48,
   "id": "coral-leone",
   "metadata": {
    "ExecuteTime": {
     "end_time": "2022-05-14T22:12:04.763884Z",
     "start_time": "2022-05-14T22:12:04.760952Z"
    }
   },
   "outputs": [],
   "source": [
    "missing_1 = [\"vlIdade\",\n",
    "             \"winRateDust2\",\n",
    "             \"winRateNuke\",\n",
    "             \"winRateOverpass\",\n",
    "             \"winRateVertigo\",\n",
    "             \"winRateTrain\",\n",
    "             \"winRateMirage\",\n",
    "             \"winRateInferno\",\n",
    "             \"winRateAncient\"]"
   ]
  },
  {
   "cell_type": "markdown",
   "id": "severe-puppy",
   "metadata": {},
   "source": [
    "## Descriptive Statistics"
   ]
  },
  {
   "cell_type": "code",
   "execution_count": null,
   "id": "wrong-nothing",
   "metadata": {},
   "outputs": [],
   "source": []
  },
  {
   "cell_type": "code",
   "execution_count": 49,
   "id": "swedish-bonus",
   "metadata": {
    "ExecuteTime": {
     "end_time": "2022-05-14T22:12:27.160950Z",
     "start_time": "2022-05-14T22:12:26.930104Z"
    }
   },
   "outputs": [
    {
     "data": {
      "text/html": [
       "<div>\n",
       "<style scoped>\n",
       "    .dataframe tbody tr th:only-of-type {\n",
       "        vertical-align: middle;\n",
       "    }\n",
       "\n",
       "    .dataframe tbody tr th {\n",
       "        vertical-align: top;\n",
       "    }\n",
       "\n",
       "    .dataframe thead th {\n",
       "        text-align: right;\n",
       "    }\n",
       "</style>\n",
       "<table border=\"1\" class=\"dataframe\">\n",
       "  <thead>\n",
       "    <tr style=\"text-align: right;\">\n",
       "      <th></th>\n",
       "      <th>qtPartidas</th>\n",
       "      <th>qtPartidasMenor16</th>\n",
       "      <th>qtDias</th>\n",
       "      <th>qtDiasUltimaLobby</th>\n",
       "      <th>mediaPartidaDias</th>\n",
       "      <th>avgQtKill</th>\n",
       "      <th>avgQtAssist</th>\n",
       "      <th>avgQtDeath</th>\n",
       "      <th>avgKDA</th>\n",
       "      <th>KDAgeral</th>\n",
       "      <th>...</th>\n",
       "      <th>vlLevelAtual</th>\n",
       "      <th>qtMedalDistict</th>\n",
       "      <th>qtMedalhaAdquiridas</th>\n",
       "      <th>qtPremium</th>\n",
       "      <th>qtPlus</th>\n",
       "      <th>flFacebook</th>\n",
       "      <th>flTwitter</th>\n",
       "      <th>flTwitch</th>\n",
       "      <th>vlIdadePlayer</th>\n",
       "      <th>vlDiasCadastro</th>\n",
       "    </tr>\n",
       "  </thead>\n",
       "  <tbody>\n",
       "    <tr>\n",
       "      <th>count</th>\n",
       "      <td>82751.000000</td>\n",
       "      <td>82751.000000</td>\n",
       "      <td>82751.000000</td>\n",
       "      <td>82751.000000</td>\n",
       "      <td>82751.000000</td>\n",
       "      <td>82751.000000</td>\n",
       "      <td>82751.000000</td>\n",
       "      <td>82751.000000</td>\n",
       "      <td>82751.000000</td>\n",
       "      <td>82751.000000</td>\n",
       "      <td>...</td>\n",
       "      <td>82751.000000</td>\n",
       "      <td>82751.000000</td>\n",
       "      <td>82751.000000</td>\n",
       "      <td>82751.000000</td>\n",
       "      <td>82751.000000</td>\n",
       "      <td>82751.000000</td>\n",
       "      <td>82751.000000</td>\n",
       "      <td>82751.000000</td>\n",
       "      <td>65758.000000</td>\n",
       "      <td>82751.000000</td>\n",
       "    </tr>\n",
       "    <tr>\n",
       "      <th>mean</th>\n",
       "      <td>20.763459</td>\n",
       "      <td>0.458109</td>\n",
       "      <td>8.060084</td>\n",
       "      <td>7.150226</td>\n",
       "      <td>2.150702</td>\n",
       "      <td>18.117899</td>\n",
       "      <td>3.676167</td>\n",
       "      <td>18.714680</td>\n",
       "      <td>1.244268</td>\n",
       "      <td>1.182613</td>\n",
       "      <td>...</td>\n",
       "      <td>11.401554</td>\n",
       "      <td>0.120808</td>\n",
       "      <td>0.002066</td>\n",
       "      <td>0.044640</td>\n",
       "      <td>0.103830</td>\n",
       "      <td>0.021559</td>\n",
       "      <td>0.017825</td>\n",
       "      <td>0.020399</td>\n",
       "      <td>23.653463</td>\n",
       "      <td>1056.969529</td>\n",
       "    </tr>\n",
       "    <tr>\n",
       "      <th>std</th>\n",
       "      <td>24.978140</td>\n",
       "      <td>1.178337</td>\n",
       "      <td>6.887136</td>\n",
       "      <td>8.033700</td>\n",
       "      <td>1.051248</td>\n",
       "      <td>4.878872</td>\n",
       "      <td>1.183652</td>\n",
       "      <td>2.833243</td>\n",
       "      <td>0.389574</td>\n",
       "      <td>0.339953</td>\n",
       "      <td>...</td>\n",
       "      <td>4.896939</td>\n",
       "      <td>0.334073</td>\n",
       "      <td>0.045411</td>\n",
       "      <td>0.246378</td>\n",
       "      <td>0.373534</td>\n",
       "      <td>0.145238</td>\n",
       "      <td>0.132314</td>\n",
       "      <td>0.141360</td>\n",
       "      <td>5.390378</td>\n",
       "      <td>661.303348</td>\n",
       "    </tr>\n",
       "    <tr>\n",
       "      <th>min</th>\n",
       "      <td>1.000000</td>\n",
       "      <td>0.000000</td>\n",
       "      <td>1.000000</td>\n",
       "      <td>0.000012</td>\n",
       "      <td>1.000000</td>\n",
       "      <td>0.000000</td>\n",
       "      <td>0.000000</td>\n",
       "      <td>0.000000</td>\n",
       "      <td>0.000000</td>\n",
       "      <td>0.000000</td>\n",
       "      <td>...</td>\n",
       "      <td>0.000000</td>\n",
       "      <td>0.000000</td>\n",
       "      <td>0.000000</td>\n",
       "      <td>0.000000</td>\n",
       "      <td>0.000000</td>\n",
       "      <td>0.000000</td>\n",
       "      <td>0.000000</td>\n",
       "      <td>0.000000</td>\n",
       "      <td>13.040000</td>\n",
       "      <td>0.040197</td>\n",
       "    </tr>\n",
       "    <tr>\n",
       "      <th>25%</th>\n",
       "      <td>4.000000</td>\n",
       "      <td>0.000000</td>\n",
       "      <td>2.000000</td>\n",
       "      <td>0.939057</td>\n",
       "      <td>1.400000</td>\n",
       "      <td>15.500000</td>\n",
       "      <td>3.041667</td>\n",
       "      <td>17.478261</td>\n",
       "      <td>1.035808</td>\n",
       "      <td>1.003192</td>\n",
       "      <td>...</td>\n",
       "      <td>8.000000</td>\n",
       "      <td>0.000000</td>\n",
       "      <td>0.000000</td>\n",
       "      <td>0.000000</td>\n",
       "      <td>0.000000</td>\n",
       "      <td>0.000000</td>\n",
       "      <td>0.000000</td>\n",
       "      <td>0.000000</td>\n",
       "      <td>19.900000</td>\n",
       "      <td>474.677517</td>\n",
       "    </tr>\n",
       "    <tr>\n",
       "      <th>50%</th>\n",
       "      <td>11.000000</td>\n",
       "      <td>0.000000</td>\n",
       "      <td>6.000000</td>\n",
       "      <td>3.803507</td>\n",
       "      <td>2.000000</td>\n",
       "      <td>18.200000</td>\n",
       "      <td>3.666667</td>\n",
       "      <td>18.851064</td>\n",
       "      <td>1.225335</td>\n",
       "      <td>1.170507</td>\n",
       "      <td>...</td>\n",
       "      <td>11.000000</td>\n",
       "      <td>0.000000</td>\n",
       "      <td>0.000000</td>\n",
       "      <td>0.000000</td>\n",
       "      <td>0.000000</td>\n",
       "      <td>0.000000</td>\n",
       "      <td>0.000000</td>\n",
       "      <td>0.000000</td>\n",
       "      <td>22.430000</td>\n",
       "      <td>972.193322</td>\n",
       "    </tr>\n",
       "    <tr>\n",
       "      <th>75%</th>\n",
       "      <td>28.000000</td>\n",
       "      <td>1.000000</td>\n",
       "      <td>12.000000</td>\n",
       "      <td>11.199890</td>\n",
       "      <td>2.625000</td>\n",
       "      <td>20.923077</td>\n",
       "      <td>4.222222</td>\n",
       "      <td>20.000000</td>\n",
       "      <td>1.418487</td>\n",
       "      <td>1.340795</td>\n",
       "      <td>...</td>\n",
       "      <td>15.000000</td>\n",
       "      <td>0.000000</td>\n",
       "      <td>0.000000</td>\n",
       "      <td>0.000000</td>\n",
       "      <td>0.000000</td>\n",
       "      <td>0.000000</td>\n",
       "      <td>0.000000</td>\n",
       "      <td>0.000000</td>\n",
       "      <td>26.717500</td>\n",
       "      <td>1616.181869</td>\n",
       "    </tr>\n",
       "    <tr>\n",
       "      <th>max</th>\n",
       "      <td>262.000000</td>\n",
       "      <td>37.000000</td>\n",
       "      <td>30.000000</td>\n",
       "      <td>29.999375</td>\n",
       "      <td>12.000000</td>\n",
       "      <td>45.000000</td>\n",
       "      <td>14.000000</td>\n",
       "      <td>44.000000</td>\n",
       "      <td>9.250000</td>\n",
       "      <td>9.250000</td>\n",
       "      <td>...</td>\n",
       "      <td>21.000000</td>\n",
       "      <td>2.000000</td>\n",
       "      <td>1.000000</td>\n",
       "      <td>4.000000</td>\n",
       "      <td>5.000000</td>\n",
       "      <td>1.000000</td>\n",
       "      <td>1.000000</td>\n",
       "      <td>1.000000</td>\n",
       "      <td>60.460000</td>\n",
       "      <td>3133.583958</td>\n",
       "    </tr>\n",
       "  </tbody>\n",
       "</table>\n",
       "<p>8 rows × 74 columns</p>\n",
       "</div>"
      ],
      "text/plain": [
       "         qtPartidas  qtPartidasMenor16        qtDias  qtDiasUltimaLobby  \\\n",
       "count  82751.000000       82751.000000  82751.000000       82751.000000   \n",
       "mean      20.763459           0.458109      8.060084           7.150226   \n",
       "std       24.978140           1.178337      6.887136           8.033700   \n",
       "min        1.000000           0.000000      1.000000           0.000012   \n",
       "25%        4.000000           0.000000      2.000000           0.939057   \n",
       "50%       11.000000           0.000000      6.000000           3.803507   \n",
       "75%       28.000000           1.000000     12.000000          11.199890   \n",
       "max      262.000000          37.000000     30.000000          29.999375   \n",
       "\n",
       "       mediaPartidaDias     avgQtKill   avgQtAssist    avgQtDeath  \\\n",
       "count      82751.000000  82751.000000  82751.000000  82751.000000   \n",
       "mean           2.150702     18.117899      3.676167     18.714680   \n",
       "std            1.051248      4.878872      1.183652      2.833243   \n",
       "min            1.000000      0.000000      0.000000      0.000000   \n",
       "25%            1.400000     15.500000      3.041667     17.478261   \n",
       "50%            2.000000     18.200000      3.666667     18.851064   \n",
       "75%            2.625000     20.923077      4.222222     20.000000   \n",
       "max           12.000000     45.000000     14.000000     44.000000   \n",
       "\n",
       "             avgKDA      KDAgeral  ...  vlLevelAtual  qtMedalDistict  \\\n",
       "count  82751.000000  82751.000000  ...  82751.000000    82751.000000   \n",
       "mean       1.244268      1.182613  ...     11.401554        0.120808   \n",
       "std        0.389574      0.339953  ...      4.896939        0.334073   \n",
       "min        0.000000      0.000000  ...      0.000000        0.000000   \n",
       "25%        1.035808      1.003192  ...      8.000000        0.000000   \n",
       "50%        1.225335      1.170507  ...     11.000000        0.000000   \n",
       "75%        1.418487      1.340795  ...     15.000000        0.000000   \n",
       "max        9.250000      9.250000  ...     21.000000        2.000000   \n",
       "\n",
       "       qtMedalhaAdquiridas     qtPremium        qtPlus    flFacebook  \\\n",
       "count         82751.000000  82751.000000  82751.000000  82751.000000   \n",
       "mean              0.002066      0.044640      0.103830      0.021559   \n",
       "std               0.045411      0.246378      0.373534      0.145238   \n",
       "min               0.000000      0.000000      0.000000      0.000000   \n",
       "25%               0.000000      0.000000      0.000000      0.000000   \n",
       "50%               0.000000      0.000000      0.000000      0.000000   \n",
       "75%               0.000000      0.000000      0.000000      0.000000   \n",
       "max               1.000000      4.000000      5.000000      1.000000   \n",
       "\n",
       "          flTwitter      flTwitch  vlIdadePlayer  vlDiasCadastro  \n",
       "count  82751.000000  82751.000000   65758.000000    82751.000000  \n",
       "mean       0.017825      0.020399      23.653463     1056.969529  \n",
       "std        0.132314      0.141360       5.390378      661.303348  \n",
       "min        0.000000      0.000000      13.040000        0.040197  \n",
       "25%        0.000000      0.000000      19.900000      474.677517  \n",
       "50%        0.000000      0.000000      22.430000      972.193322  \n",
       "75%        0.000000      0.000000      26.717500     1616.181869  \n",
       "max        1.000000      1.000000      60.460000     3133.583958  \n",
       "\n",
       "[8 rows x 74 columns]"
      ]
     },
     "execution_count": 49,
     "metadata": {},
     "output_type": "execute_result"
    }
   ],
   "source": [
    "X_train.describe()"
   ]
  },
  {
   "cell_type": "code",
   "execution_count": null,
   "id": "governing-upgrade",
   "metadata": {},
   "outputs": [],
   "source": []
  },
  {
   "cell_type": "markdown",
   "id": "smooth-franklin",
   "metadata": {
    "heading_collapsed": true
   },
   "source": [
    "## Multivariate Analysis"
   ]
  },
  {
   "cell_type": "markdown",
   "id": "distributed-rebate",
   "metadata": {},
   "source": [
    "# DATA PREPARATION"
   ]
  },
  {
   "cell_type": "markdown",
   "id": "1e35bb4f",
   "metadata": {},
   "source": [
    "## Feature Transform"
   ]
  },
  {
   "cell_type": "code",
   "execution_count": 50,
   "id": "single-camera",
   "metadata": {
    "ExecuteTime": {
     "end_time": "2022-05-14T22:13:46.123244Z",
     "start_time": "2022-05-14T22:13:46.120870Z"
    }
   },
   "outputs": [],
   "source": [
    "#imputação dos dados\n",
    "input_1 = imputation.ArbitraryNumberImputer(arbitrary_number = -1, variables =missing_1 )\n",
    "\n",
    "# one hot enconding\n",
    "onehot = encoding.OneHotEncoder(drop_last = True, variables=cat_features)\n"
   ]
  },
  {
   "cell_type": "markdown",
   "id": "fatal-meditation",
   "metadata": {},
   "source": [
    "# FEATURE SELECTION"
   ]
  },
  {
   "cell_type": "markdown",
   "id": "personalized-intervention",
   "metadata": {},
   "source": [
    "## Feature Selector (boruta?)"
   ]
  },
  {
   "cell_type": "code",
   "execution_count": 60,
   "id": "determined-pressing",
   "metadata": {
    "ExecuteTime": {
     "end_time": "2022-05-14T22:21:19.665728Z",
     "start_time": "2022-05-14T22:21:18.427299Z"
    }
   },
   "outputs": [
    {
     "name": "stderr",
     "output_type": "stream",
     "text": [
      "/home/marxcerqueira/.pyenv/versions/3.9.2/envs/gc-prediction/lib/python3.9/site-packages/sklearn/utils/validation.py:1688: FutureWarning: Feature names only support names that are all strings. Got feature names with dtypes: ['quoted_name']. An error will be raised in 1.2.\n",
      "  warnings.warn(\n"
     ]
    },
    {
     "ename": "ValueError",
     "evalue": "could not convert string to float: 'ar'",
     "output_type": "error",
     "traceback": [
      "\u001b[0;31m---------------------------------------------------------------------------\u001b[0m",
      "\u001b[0;31mValueError\u001b[0m                                Traceback (most recent call last)",
      "Input \u001b[0;32mIn [60]\u001b[0m, in \u001b[0;36m<cell line: 3>\u001b[0;34m()\u001b[0m\n\u001b[1;32m      1\u001b[0m \u001b[38;5;66;03m# train random forest classifier\u001b[39;00m\n\u001b[1;32m      2\u001b[0m rf_clf \u001b[38;5;241m=\u001b[39m ensemble\u001b[38;5;241m.\u001b[39mRandomForestClassifier(n_estimators \u001b[38;5;241m=\u001b[39m \u001b[38;5;241m300\u001b[39m, min_samples_leaf\u001b[38;5;241m=\u001b[39m\u001b[38;5;241m50\u001b[39m, n_jobs \u001b[38;5;241m=\u001b[39m\u001b[38;5;241m-\u001b[39m\u001b[38;5;241m1\u001b[39m, random_state \u001b[38;5;241m=\u001b[39m \u001b[38;5;241m42\u001b[39m)\n\u001b[0;32m----> 3\u001b[0m \u001b[43mrf_clf\u001b[49m\u001b[38;5;241;43m.\u001b[39;49m\u001b[43mfit\u001b[49m\u001b[43m(\u001b[49m\u001b[43mX_train\u001b[49m\u001b[43m,\u001b[49m\u001b[43m \u001b[49m\u001b[43my_train\u001b[49m\u001b[43m)\u001b[49m\n\u001b[1;32m      5\u001b[0m \u001b[38;5;66;03m# feature importance data frame\u001b[39;00m\n\u001b[1;32m      6\u001b[0m feat_imp \u001b[38;5;241m=\u001b[39m pd\u001b[38;5;241m.\u001b[39mDataFrame({\u001b[38;5;124m'\u001b[39m\u001b[38;5;124mfeature\u001b[39m\u001b[38;5;124m'\u001b[39m: X_train\u001b[38;5;241m.\u001b[39mcolumns,\n\u001b[1;32m      7\u001b[0m                         \u001b[38;5;124m'\u001b[39m\u001b[38;5;124mfeature_importance\u001b[39m\u001b[38;5;124m'\u001b[39m: rf\u001b[38;5;241m.\u001b[39mfeature_importances_})\\\n\u001b[1;32m      8\u001b[0m                         \u001b[38;5;241m.\u001b[39msort_values(\u001b[38;5;124m'\u001b[39m\u001b[38;5;124mfeature_importance\u001b[39m\u001b[38;5;124m'\u001b[39m, ascending\u001b[38;5;241m=\u001b[39m\u001b[38;5;28;01mFalse\u001b[39;00m)\\\n\u001b[1;32m      9\u001b[0m                         \u001b[38;5;241m.\u001b[39mreset_index(drop\u001b[38;5;241m=\u001b[39m\u001b[38;5;28;01mTrue\u001b[39;00m)\n",
      "File \u001b[0;32m~/.pyenv/versions/3.9.2/envs/gc-prediction/lib/python3.9/site-packages/sklearn/ensemble/_forest.py:327\u001b[0m, in \u001b[0;36mBaseForest.fit\u001b[0;34m(self, X, y, sample_weight)\u001b[0m\n\u001b[1;32m    325\u001b[0m \u001b[38;5;28;01mif\u001b[39;00m issparse(y):\n\u001b[1;32m    326\u001b[0m     \u001b[38;5;28;01mraise\u001b[39;00m \u001b[38;5;167;01mValueError\u001b[39;00m(\u001b[38;5;124m\"\u001b[39m\u001b[38;5;124msparse multilabel-indicator for y is not supported.\u001b[39m\u001b[38;5;124m\"\u001b[39m)\n\u001b[0;32m--> 327\u001b[0m X, y \u001b[38;5;241m=\u001b[39m \u001b[38;5;28;43mself\u001b[39;49m\u001b[38;5;241;43m.\u001b[39;49m\u001b[43m_validate_data\u001b[49m\u001b[43m(\u001b[49m\n\u001b[1;32m    328\u001b[0m \u001b[43m    \u001b[49m\u001b[43mX\u001b[49m\u001b[43m,\u001b[49m\u001b[43m \u001b[49m\u001b[43my\u001b[49m\u001b[43m,\u001b[49m\u001b[43m \u001b[49m\u001b[43mmulti_output\u001b[49m\u001b[38;5;241;43m=\u001b[39;49m\u001b[38;5;28;43;01mTrue\u001b[39;49;00m\u001b[43m,\u001b[49m\u001b[43m \u001b[49m\u001b[43maccept_sparse\u001b[49m\u001b[38;5;241;43m=\u001b[39;49m\u001b[38;5;124;43m\"\u001b[39;49m\u001b[38;5;124;43mcsc\u001b[39;49m\u001b[38;5;124;43m\"\u001b[39;49m\u001b[43m,\u001b[49m\u001b[43m \u001b[49m\u001b[43mdtype\u001b[49m\u001b[38;5;241;43m=\u001b[39;49m\u001b[43mDTYPE\u001b[49m\n\u001b[1;32m    329\u001b[0m \u001b[43m\u001b[49m\u001b[43m)\u001b[49m\n\u001b[1;32m    330\u001b[0m \u001b[38;5;28;01mif\u001b[39;00m sample_weight \u001b[38;5;129;01mis\u001b[39;00m \u001b[38;5;129;01mnot\u001b[39;00m \u001b[38;5;28;01mNone\u001b[39;00m:\n\u001b[1;32m    331\u001b[0m     sample_weight \u001b[38;5;241m=\u001b[39m _check_sample_weight(sample_weight, X)\n",
      "File \u001b[0;32m~/.pyenv/versions/3.9.2/envs/gc-prediction/lib/python3.9/site-packages/sklearn/base.py:581\u001b[0m, in \u001b[0;36mBaseEstimator._validate_data\u001b[0;34m(self, X, y, reset, validate_separately, **check_params)\u001b[0m\n\u001b[1;32m    579\u001b[0m         y \u001b[38;5;241m=\u001b[39m check_array(y, \u001b[38;5;241m*\u001b[39m\u001b[38;5;241m*\u001b[39mcheck_y_params)\n\u001b[1;32m    580\u001b[0m     \u001b[38;5;28;01melse\u001b[39;00m:\n\u001b[0;32m--> 581\u001b[0m         X, y \u001b[38;5;241m=\u001b[39m \u001b[43mcheck_X_y\u001b[49m\u001b[43m(\u001b[49m\u001b[43mX\u001b[49m\u001b[43m,\u001b[49m\u001b[43m \u001b[49m\u001b[43my\u001b[49m\u001b[43m,\u001b[49m\u001b[43m \u001b[49m\u001b[38;5;241;43m*\u001b[39;49m\u001b[38;5;241;43m*\u001b[39;49m\u001b[43mcheck_params\u001b[49m\u001b[43m)\u001b[49m\n\u001b[1;32m    582\u001b[0m     out \u001b[38;5;241m=\u001b[39m X, y\n\u001b[1;32m    584\u001b[0m \u001b[38;5;28;01mif\u001b[39;00m \u001b[38;5;129;01mnot\u001b[39;00m no_val_X \u001b[38;5;129;01mand\u001b[39;00m check_params\u001b[38;5;241m.\u001b[39mget(\u001b[38;5;124m\"\u001b[39m\u001b[38;5;124mensure_2d\u001b[39m\u001b[38;5;124m\"\u001b[39m, \u001b[38;5;28;01mTrue\u001b[39;00m):\n",
      "File \u001b[0;32m~/.pyenv/versions/3.9.2/envs/gc-prediction/lib/python3.9/site-packages/sklearn/utils/validation.py:964\u001b[0m, in \u001b[0;36mcheck_X_y\u001b[0;34m(X, y, accept_sparse, accept_large_sparse, dtype, order, copy, force_all_finite, ensure_2d, allow_nd, multi_output, ensure_min_samples, ensure_min_features, y_numeric, estimator)\u001b[0m\n\u001b[1;32m    961\u001b[0m \u001b[38;5;28;01mif\u001b[39;00m y \u001b[38;5;129;01mis\u001b[39;00m \u001b[38;5;28;01mNone\u001b[39;00m:\n\u001b[1;32m    962\u001b[0m     \u001b[38;5;28;01mraise\u001b[39;00m \u001b[38;5;167;01mValueError\u001b[39;00m(\u001b[38;5;124m\"\u001b[39m\u001b[38;5;124my cannot be None\u001b[39m\u001b[38;5;124m\"\u001b[39m)\n\u001b[0;32m--> 964\u001b[0m X \u001b[38;5;241m=\u001b[39m \u001b[43mcheck_array\u001b[49m\u001b[43m(\u001b[49m\n\u001b[1;32m    965\u001b[0m \u001b[43m    \u001b[49m\u001b[43mX\u001b[49m\u001b[43m,\u001b[49m\n\u001b[1;32m    966\u001b[0m \u001b[43m    \u001b[49m\u001b[43maccept_sparse\u001b[49m\u001b[38;5;241;43m=\u001b[39;49m\u001b[43maccept_sparse\u001b[49m\u001b[43m,\u001b[49m\n\u001b[1;32m    967\u001b[0m \u001b[43m    \u001b[49m\u001b[43maccept_large_sparse\u001b[49m\u001b[38;5;241;43m=\u001b[39;49m\u001b[43maccept_large_sparse\u001b[49m\u001b[43m,\u001b[49m\n\u001b[1;32m    968\u001b[0m \u001b[43m    \u001b[49m\u001b[43mdtype\u001b[49m\u001b[38;5;241;43m=\u001b[39;49m\u001b[43mdtype\u001b[49m\u001b[43m,\u001b[49m\n\u001b[1;32m    969\u001b[0m \u001b[43m    \u001b[49m\u001b[43morder\u001b[49m\u001b[38;5;241;43m=\u001b[39;49m\u001b[43morder\u001b[49m\u001b[43m,\u001b[49m\n\u001b[1;32m    970\u001b[0m \u001b[43m    \u001b[49m\u001b[43mcopy\u001b[49m\u001b[38;5;241;43m=\u001b[39;49m\u001b[43mcopy\u001b[49m\u001b[43m,\u001b[49m\n\u001b[1;32m    971\u001b[0m \u001b[43m    \u001b[49m\u001b[43mforce_all_finite\u001b[49m\u001b[38;5;241;43m=\u001b[39;49m\u001b[43mforce_all_finite\u001b[49m\u001b[43m,\u001b[49m\n\u001b[1;32m    972\u001b[0m \u001b[43m    \u001b[49m\u001b[43mensure_2d\u001b[49m\u001b[38;5;241;43m=\u001b[39;49m\u001b[43mensure_2d\u001b[49m\u001b[43m,\u001b[49m\n\u001b[1;32m    973\u001b[0m \u001b[43m    \u001b[49m\u001b[43mallow_nd\u001b[49m\u001b[38;5;241;43m=\u001b[39;49m\u001b[43mallow_nd\u001b[49m\u001b[43m,\u001b[49m\n\u001b[1;32m    974\u001b[0m \u001b[43m    \u001b[49m\u001b[43mensure_min_samples\u001b[49m\u001b[38;5;241;43m=\u001b[39;49m\u001b[43mensure_min_samples\u001b[49m\u001b[43m,\u001b[49m\n\u001b[1;32m    975\u001b[0m \u001b[43m    \u001b[49m\u001b[43mensure_min_features\u001b[49m\u001b[38;5;241;43m=\u001b[39;49m\u001b[43mensure_min_features\u001b[49m\u001b[43m,\u001b[49m\n\u001b[1;32m    976\u001b[0m \u001b[43m    \u001b[49m\u001b[43mestimator\u001b[49m\u001b[38;5;241;43m=\u001b[39;49m\u001b[43mestimator\u001b[49m\u001b[43m,\u001b[49m\n\u001b[1;32m    977\u001b[0m \u001b[43m\u001b[49m\u001b[43m)\u001b[49m\n\u001b[1;32m    979\u001b[0m y \u001b[38;5;241m=\u001b[39m _check_y(y, multi_output\u001b[38;5;241m=\u001b[39mmulti_output, y_numeric\u001b[38;5;241m=\u001b[39my_numeric)\n\u001b[1;32m    981\u001b[0m check_consistent_length(X, y)\n",
      "File \u001b[0;32m~/.pyenv/versions/3.9.2/envs/gc-prediction/lib/python3.9/site-packages/sklearn/utils/validation.py:746\u001b[0m, in \u001b[0;36mcheck_array\u001b[0;34m(array, accept_sparse, accept_large_sparse, dtype, order, copy, force_all_finite, ensure_2d, allow_nd, ensure_min_samples, ensure_min_features, estimator)\u001b[0m\n\u001b[1;32m    744\u001b[0m         array \u001b[38;5;241m=\u001b[39m array\u001b[38;5;241m.\u001b[39mastype(dtype, casting\u001b[38;5;241m=\u001b[39m\u001b[38;5;124m\"\u001b[39m\u001b[38;5;124munsafe\u001b[39m\u001b[38;5;124m\"\u001b[39m, copy\u001b[38;5;241m=\u001b[39m\u001b[38;5;28;01mFalse\u001b[39;00m)\n\u001b[1;32m    745\u001b[0m     \u001b[38;5;28;01melse\u001b[39;00m:\n\u001b[0;32m--> 746\u001b[0m         array \u001b[38;5;241m=\u001b[39m \u001b[43mnp\u001b[49m\u001b[38;5;241;43m.\u001b[39;49m\u001b[43masarray\u001b[49m\u001b[43m(\u001b[49m\u001b[43marray\u001b[49m\u001b[43m,\u001b[49m\u001b[43m \u001b[49m\u001b[43morder\u001b[49m\u001b[38;5;241;43m=\u001b[39;49m\u001b[43morder\u001b[49m\u001b[43m,\u001b[49m\u001b[43m \u001b[49m\u001b[43mdtype\u001b[49m\u001b[38;5;241;43m=\u001b[39;49m\u001b[43mdtype\u001b[49m\u001b[43m)\u001b[49m\n\u001b[1;32m    747\u001b[0m \u001b[38;5;28;01mexcept\u001b[39;00m ComplexWarning \u001b[38;5;28;01mas\u001b[39;00m complex_warning:\n\u001b[1;32m    748\u001b[0m     \u001b[38;5;28;01mraise\u001b[39;00m \u001b[38;5;167;01mValueError\u001b[39;00m(\n\u001b[1;32m    749\u001b[0m         \u001b[38;5;124m\"\u001b[39m\u001b[38;5;124mComplex data not supported\u001b[39m\u001b[38;5;130;01m\\n\u001b[39;00m\u001b[38;5;132;01m{}\u001b[39;00m\u001b[38;5;130;01m\\n\u001b[39;00m\u001b[38;5;124m\"\u001b[39m\u001b[38;5;241m.\u001b[39mformat(array)\n\u001b[1;32m    750\u001b[0m     ) \u001b[38;5;28;01mfrom\u001b[39;00m \u001b[38;5;21;01mcomplex_warning\u001b[39;00m\n",
      "File \u001b[0;32m~/.pyenv/versions/3.9.2/envs/gc-prediction/lib/python3.9/site-packages/pandas/core/generic.py:2064\u001b[0m, in \u001b[0;36mNDFrame.__array__\u001b[0;34m(self, dtype)\u001b[0m\n\u001b[1;32m   2063\u001b[0m \u001b[38;5;28;01mdef\u001b[39;00m \u001b[38;5;21m__array__\u001b[39m(\u001b[38;5;28mself\u001b[39m, dtype: npt\u001b[38;5;241m.\u001b[39mDTypeLike \u001b[38;5;241m|\u001b[39m \u001b[38;5;28;01mNone\u001b[39;00m \u001b[38;5;241m=\u001b[39m \u001b[38;5;28;01mNone\u001b[39;00m) \u001b[38;5;241m-\u001b[39m\u001b[38;5;241m>\u001b[39m np\u001b[38;5;241m.\u001b[39mndarray:\n\u001b[0;32m-> 2064\u001b[0m     \u001b[38;5;28;01mreturn\u001b[39;00m \u001b[43mnp\u001b[49m\u001b[38;5;241;43m.\u001b[39;49m\u001b[43masarray\u001b[49m\u001b[43m(\u001b[49m\u001b[38;5;28;43mself\u001b[39;49m\u001b[38;5;241;43m.\u001b[39;49m\u001b[43m_values\u001b[49m\u001b[43m,\u001b[49m\u001b[43m \u001b[49m\u001b[43mdtype\u001b[49m\u001b[38;5;241;43m=\u001b[39;49m\u001b[43mdtype\u001b[49m\u001b[43m)\u001b[49m\n",
      "\u001b[0;31mValueError\u001b[0m: could not convert string to float: 'ar'"
     ]
    }
   ],
   "source": [
    "# train random forest classifier\n",
    "rf_clf = ensemble.RandomForestClassifier(n_estimators = 300, min_samples_leaf=50, n_jobs =-1, random_state = 42)\n",
    "rf_clf.fit(X_train, y_train)\n",
    "\n",
    "# feature importance data frame\n",
    "feat_imp = pd.DataFrame({'feature': X_train.columns,\n",
    "                        'feature_importance': rf.feature_importances_})\\\n",
    "                        .sort_values('feature_importance', ascending=False)\\\n",
    "                        .reset_index(drop=True)\n",
    "\n",
    "\n",
    "# plot feature importance\n",
    "plt.subplots(figsize=(12,6))\n",
    "sns.barplot(x='feature_importance', y='feature', data=feat_imp, orient='h', color='royalblue')\\\n",
    "    .set_title('Feature Importance');"
   ]
  },
  {
   "cell_type": "code",
   "execution_count": null,
   "id": "norman-compatibility",
   "metadata": {},
   "outputs": [],
   "source": []
  },
  {
   "cell_type": "markdown",
   "id": "executive-gates",
   "metadata": {},
   "source": [
    "## Best Features"
   ]
  },
  {
   "cell_type": "code",
   "execution_count": null,
   "id": "aba7a282",
   "metadata": {},
   "outputs": [],
   "source": []
  },
  {
   "cell_type": "markdown",
   "id": "internal-stake",
   "metadata": {},
   "source": [
    "## Spliting dataframe into training and test dataset"
   ]
  },
  {
   "cell_type": "code",
   "execution_count": null,
   "id": "ab2c273a",
   "metadata": {},
   "outputs": [],
   "source": []
  },
  {
   "cell_type": "code",
   "execution_count": 57,
   "id": "advance-serve",
   "metadata": {
    "ExecuteTime": {
     "end_time": "2022-05-14T22:17:24.605653Z",
     "start_time": "2022-05-14T22:17:24.599538Z"
    }
   },
   "outputs": [
    {
     "name": "stdout",
     "output_type": "stream",
     "text": [
      "0    93.167454\n",
      "1     6.832546\n",
      "Name: flagSub, dtype: float64\n",
      "0    93.431213\n",
      "1     6.568787\n",
      "Name: flagSub, dtype: float64\n",
      "0    93.021435\n",
      "1     6.978565\n",
      "Name: flagSub, dtype: float64\n",
      "0    96.386021\n",
      "1     3.613979\n",
      "Name: flagSub, dtype: float64\n"
     ]
    }
   ],
   "source": []
  },
  {
   "cell_type": "code",
   "execution_count": 55,
   "id": "36b8fd42",
   "metadata": {
    "ExecuteTime": {
     "end_time": "2022-05-14T22:16:09.357532Z",
     "start_time": "2022-05-14T22:16:09.353462Z"
    }
   },
   "outputs": [
    {
     "data": {
      "text/plain": [
       "0    93.431213\n",
       "1     6.568787\n",
       "Name: flagSub, dtype: float64"
      ]
     },
     "execution_count": 55,
     "metadata": {},
     "output_type": "execute_result"
    }
   ],
   "source": [
    "y_valid.value_counts(normalize = True)*100"
   ]
  },
  {
   "cell_type": "code",
   "execution_count": 52,
   "id": "27dc125c",
   "metadata": {
    "ExecuteTime": {
     "end_time": "2022-05-14T22:15:45.456730Z",
     "start_time": "2022-05-14T22:15:45.452633Z"
    }
   },
   "outputs": [
    {
     "data": {
      "text/plain": [
       "0    93.021435\n",
       "1     6.978565\n",
       "Name: flagSub, dtype: float64"
      ]
     },
     "execution_count": 52,
     "metadata": {},
     "output_type": "execute_result"
    }
   ],
   "source": [
    "y_test.value_counts(normalize = True)*100"
   ]
  },
  {
   "cell_type": "code",
   "execution_count": 56,
   "id": "54044c9f",
   "metadata": {
    "ExecuteTime": {
     "end_time": "2022-05-14T22:16:19.457344Z",
     "start_time": "2022-05-14T22:16:19.453445Z"
    }
   },
   "outputs": [
    {
     "data": {
      "text/plain": [
       "0    96.386021\n",
       "1     3.613979\n",
       "Name: flagSub, dtype: float64"
      ]
     },
     "execution_count": 56,
     "metadata": {},
     "output_type": "execute_result"
    }
   ],
   "source": [
    "y_oot.value_counts(normalize = True)*100"
   ]
  },
  {
   "cell_type": "markdown",
   "id": "electronic-release",
   "metadata": {},
   "source": [
    "# MACHINE LEARNING ALGORITHM MODELS"
   ]
  },
  {
   "cell_type": "code",
   "execution_count": 51,
   "id": "3014acef",
   "metadata": {
    "ExecuteTime": {
     "end_time": "2022-05-14T22:14:03.702895Z",
     "start_time": "2022-05-14T22:14:03.696583Z"
    }
   },
   "outputs": [],
   "source": [
    "## MODEL\n",
    "rf_clf = ensemble.RandomForestClassifier(n_estimators=200,\n",
    "                                         min_samples_leaf=50,\n",
    "                                         n_jobs = -1,\n",
    "                                         random_state=42)\n",
    "\n",
    "ada_clf = ensemble.AdaBoostClassifier(n_estimators=200,\n",
    "                                      learning_rate=0.8,\n",
    "                                      random_state=42)\n",
    "\n",
    "et_clf = ensemble.ExtraTreesClassifier(n_estimators=200,\n",
    "                                      max_depth=15,\n",
    "                                      min_samples_leaf=50,\n",
    "                                      n_jobs=-1,\n",
    "                                      random_state=42)\n",
    "\n",
    "dt_clf = tree.DecisionTreeClassifier(max_depth=15,\n",
    "                                     min_samples_leaf=50,\n",
    "                                     random_state=42)\n",
    "\n",
    "lr_clf = linear_model.LogisticRegressionCV(cv=4, n_jobs=-1)"
   ]
  },
  {
   "cell_type": "markdown",
   "id": "stuffed-rally",
   "metadata": {},
   "source": [
    "## Modelo 1"
   ]
  },
  {
   "cell_type": "markdown",
   "id": "veterinary-oxford",
   "metadata": {},
   "source": [
    "## Modelo 2"
   ]
  },
  {
   "cell_type": "markdown",
   "id": "requested-mason",
   "metadata": {},
   "source": [
    "## Modelo 3"
   ]
  },
  {
   "cell_type": "markdown",
   "id": "charged-potato",
   "metadata": {},
   "source": [
    "## Compare Model's Performance"
   ]
  },
  {
   "cell_type": "code",
   "execution_count": null,
   "id": "representative-blake",
   "metadata": {},
   "outputs": [],
   "source": []
  },
  {
   "cell_type": "markdown",
   "id": "frequent-brooklyn",
   "metadata": {},
   "source": [
    "# HYPERPARAMETERS FINE TUNING"
   ]
  },
  {
   "cell_type": "code",
   "execution_count": null,
   "id": "absent-telephone",
   "metadata": {},
   "outputs": [],
   "source": []
  },
  {
   "cell_type": "markdown",
   "id": "bright-green",
   "metadata": {},
   "source": [
    "# ERROR INTERPRETATION"
   ]
  },
  {
   "cell_type": "code",
   "execution_count": null,
   "id": "dirty-hindu",
   "metadata": {},
   "outputs": [],
   "source": []
  },
  {
   "cell_type": "markdown",
   "id": "fifth-tooth",
   "metadata": {},
   "source": [
    "# MODEL DEPLOYMENT"
   ]
  }
 ],
 "metadata": {
  "kernelspec": {
   "display_name": "Python 3 (ipykernel)",
   "language": "python",
   "name": "python3"
  },
  "language_info": {
   "codemirror_mode": {
    "name": "ipython",
    "version": 3
   },
   "file_extension": ".py",
   "mimetype": "text/x-python",
   "name": "python",
   "nbconvert_exporter": "python",
   "pygments_lexer": "ipython3",
   "version": "3.9.2"
  },
  "nbTranslate": {
   "displayLangs": [
    "*"
   ],
   "hotkey": "alt-t",
   "langInMainMenu": true,
   "sourceLang": "en",
   "targetLang": "fr",
   "useGoogleTranslate": true
  },
  "toc": {
   "base_numbering": 1,
   "nav_menu": {},
   "number_sections": true,
   "sideBar": true,
   "skip_h1_title": false,
   "title_cell": "Table of Contents",
   "title_sidebar": "Contents",
   "toc_cell": false,
   "toc_position": {},
   "toc_section_display": true,
   "toc_window_display": true
  }
 },
 "nbformat": 4,
 "nbformat_minor": 5
}
